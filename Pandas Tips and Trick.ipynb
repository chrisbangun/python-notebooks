{
 "cells": [
  {
   "cell_type": "markdown",
   "metadata": {},
   "source": [
    "### Learning Pandas and Numpy\n",
    "\n",
    "This notebook contains some tips and trick that I learnt during my time working with pandas and numpy!\n",
    "\n",
    "In this tutorial, I generated a toy dataset which is a dataset containing several people with their summer activities"
   ]
  },
  {
   "cell_type": "code",
   "execution_count": 5,
   "metadata": {
    "collapsed": true
   },
   "outputs": [],
   "source": [
    "import pandas as pd\n",
    "import numpy as np\n",
    "import random\n",
    "import time"
   ]
  },
  {
   "cell_type": "code",
   "execution_count": 6,
   "metadata": {
    "collapsed": true
   },
   "outputs": [],
   "source": [
    "def strTimeProp(start, end, format, prop):\n",
    "    \"\"\"Get a time at a proportion of a range of two formatted times.\n",
    "\n",
    "    start and end should be strings specifying times formated in the\n",
    "    given format (strftime-style), giving an interval [start, end].\n",
    "    prop specifies how a proportion of the interval to be taken after\n",
    "    start.  The returned time will be in the specified format.\n",
    "    \"\"\"\n",
    "\n",
    "    stime = time.mktime(time.strptime(start, format))\n",
    "    etime = time.mktime(time.strptime(end, format))\n",
    "\n",
    "    ptime = stime + prop * (etime - stime)\n",
    "\n",
    "    return time.strftime(format, time.localtime(ptime))\n",
    "\n",
    "\n",
    "def randomDate(start, end, prop):\n",
    "    return strTimeProp(start, end, '%m/%d/%Y %I:%M %p', prop)"
   ]
  },
  {
   "cell_type": "code",
   "execution_count": 11,
   "metadata": {
    "collapsed": false
   },
   "outputs": [
    {
     "data": {
      "text/plain": [
       "'07/08/2017 08:01 AM'"
      ]
     },
     "execution_count": 11,
     "metadata": {},
     "output_type": "execute_result"
    }
   ],
   "source": [
    "time.strftime(randomDate(\"07/08/2017 08:30 AM\", \"07/08/2017 5:50 AM\", random.random()))"
   ]
  },
  {
   "cell_type": "code",
   "execution_count": 18,
   "metadata": {
    "collapsed": true
   },
   "outputs": [],
   "source": [
    "def generate_dummy_data():\n",
    "    persons = ['Thomas Col', 'Mitbal Kurzweil', 'Addy Bangoen', \n",
    "                   'Aqur Ruqi', 'Jane Ziporag', 'Raphael Varine', 'Benitez Alpha', 'Suzan Mort']\n",
    "    activities = ['Football', 'Travel', 'Beach', 'Animes Marathon', 'Basketball', 'Singing']\n",
    "    \n",
    "    data = []\n",
    "    for i in range(50):\n",
    "        data.append({\n",
    "                'name': random.choice(persons),\n",
    "                'activity': random.choice(activities),\n",
    "                'timestamp': time.strftime(randomDate(\"07/08/2017 08:30 AM\", \n",
    "                                                      \"07/08/2017 5:50 AM\", random.random()))\n",
    "            })\n",
    "    df = pd.DataFrame(data)\n",
    "    return df"
   ]
  },
  {
   "cell_type": "code",
   "execution_count": 19,
   "metadata": {
    "collapsed": true
   },
   "outputs": [],
   "source": [
    "df = generate_dummy_data()"
   ]
  },
  {
   "cell_type": "code",
   "execution_count": 21,
   "metadata": {
    "collapsed": false
   },
   "outputs": [
    {
     "data": {
      "text/html": [
       "<div>\n",
       "<table border=\"1\" class=\"dataframe\">\n",
       "  <thead>\n",
       "    <tr style=\"text-align: right;\">\n",
       "      <th></th>\n",
       "      <th>activity</th>\n",
       "      <th>name</th>\n",
       "      <th>timestamp</th>\n",
       "    </tr>\n",
       "  </thead>\n",
       "  <tbody>\n",
       "    <tr>\n",
       "      <th>0</th>\n",
       "      <td>Basketball</td>\n",
       "      <td>Aqur Ruqi</td>\n",
       "      <td>07/08/2017 07:17 AM</td>\n",
       "    </tr>\n",
       "    <tr>\n",
       "      <th>1</th>\n",
       "      <td>Travel</td>\n",
       "      <td>Raphael Varine</td>\n",
       "      <td>07/08/2017 06:09 AM</td>\n",
       "    </tr>\n",
       "    <tr>\n",
       "      <th>2</th>\n",
       "      <td>Football</td>\n",
       "      <td>Raphael Varine</td>\n",
       "      <td>07/08/2017 07:31 AM</td>\n",
       "    </tr>\n",
       "    <tr>\n",
       "      <th>3</th>\n",
       "      <td>Travel</td>\n",
       "      <td>Mitbal Kurzweil</td>\n",
       "      <td>07/08/2017 07:19 AM</td>\n",
       "    </tr>\n",
       "    <tr>\n",
       "      <th>4</th>\n",
       "      <td>Travel</td>\n",
       "      <td>Jane Ziporag</td>\n",
       "      <td>07/08/2017 07:09 AM</td>\n",
       "    </tr>\n",
       "  </tbody>\n",
       "</table>\n",
       "</div>"
      ],
      "text/plain": [
       "     activity             name            timestamp\n",
       "0  Basketball        Aqur Ruqi  07/08/2017 07:17 AM\n",
       "1      Travel   Raphael Varine  07/08/2017 06:09 AM\n",
       "2    Football   Raphael Varine  07/08/2017 07:31 AM\n",
       "3      Travel  Mitbal Kurzweil  07/08/2017 07:19 AM\n",
       "4      Travel     Jane Ziporag  07/08/2017 07:09 AM"
      ]
     },
     "execution_count": 21,
     "metadata": {},
     "output_type": "execute_result"
    }
   ],
   "source": [
    "df.head()"
   ]
  },
  {
   "cell_type": "markdown",
   "metadata": {},
   "source": [
    " ### 1. String Command\n",
    " \n",
    " For string manipulations, it is most recommended to use the Pandas **Ufuncs**, which is **.str** command\n",
    " \n",
    " For example, we will split a name column which includes the full name into two separate columns, **first_name** and **last_name** "
   ]
  },
  {
   "cell_type": "code",
   "execution_count": 30,
   "metadata": {
    "collapsed": false
   },
   "outputs": [],
   "source": [
    "df[['first_name', 'last_name']] = df.name.str.split(\" \", expand=True)"
   ]
  },
  {
   "cell_type": "code",
   "execution_count": 31,
   "metadata": {
    "collapsed": false
   },
   "outputs": [
    {
     "data": {
      "text/html": [
       "<div>\n",
       "<table border=\"1\" class=\"dataframe\">\n",
       "  <thead>\n",
       "    <tr style=\"text-align: right;\">\n",
       "      <th></th>\n",
       "      <th>activity</th>\n",
       "      <th>name</th>\n",
       "      <th>timestamp</th>\n",
       "      <th>first_name</th>\n",
       "      <th>last_name</th>\n",
       "    </tr>\n",
       "  </thead>\n",
       "  <tbody>\n",
       "    <tr>\n",
       "      <th>0</th>\n",
       "      <td>Basketball</td>\n",
       "      <td>Aqur Ruqi</td>\n",
       "      <td>07/08/2017 07:17 AM</td>\n",
       "      <td>Aqur</td>\n",
       "      <td>Ruqi</td>\n",
       "    </tr>\n",
       "    <tr>\n",
       "      <th>1</th>\n",
       "      <td>Travel</td>\n",
       "      <td>Raphael Varine</td>\n",
       "      <td>07/08/2017 06:09 AM</td>\n",
       "      <td>Raphael</td>\n",
       "      <td>Varine</td>\n",
       "    </tr>\n",
       "    <tr>\n",
       "      <th>2</th>\n",
       "      <td>Football</td>\n",
       "      <td>Raphael Varine</td>\n",
       "      <td>07/08/2017 07:31 AM</td>\n",
       "      <td>Raphael</td>\n",
       "      <td>Varine</td>\n",
       "    </tr>\n",
       "    <tr>\n",
       "      <th>3</th>\n",
       "      <td>Travel</td>\n",
       "      <td>Mitbal Kurzweil</td>\n",
       "      <td>07/08/2017 07:19 AM</td>\n",
       "      <td>Mitbal</td>\n",
       "      <td>Kurzweil</td>\n",
       "    </tr>\n",
       "    <tr>\n",
       "      <th>4</th>\n",
       "      <td>Travel</td>\n",
       "      <td>Jane Ziporag</td>\n",
       "      <td>07/08/2017 07:09 AM</td>\n",
       "      <td>Jane</td>\n",
       "      <td>Ziporag</td>\n",
       "    </tr>\n",
       "  </tbody>\n",
       "</table>\n",
       "</div>"
      ],
      "text/plain": [
       "     activity             name            timestamp first_name last_name\n",
       "0  Basketball        Aqur Ruqi  07/08/2017 07:17 AM       Aqur      Ruqi\n",
       "1      Travel   Raphael Varine  07/08/2017 06:09 AM    Raphael    Varine\n",
       "2    Football   Raphael Varine  07/08/2017 07:31 AM    Raphael    Varine\n",
       "3      Travel  Mitbal Kurzweil  07/08/2017 07:19 AM     Mitbal  Kurzweil\n",
       "4      Travel     Jane Ziporag  07/08/2017 07:09 AM       Jane   Ziporag"
      ]
     },
     "execution_count": 31,
     "metadata": {},
     "output_type": "execute_result"
    }
   ],
   "source": [
    "df.head()"
   ]
  },
  {
   "cell_type": "markdown",
   "metadata": {},
   "source": [
    " ### 2. Group by and value_counts\n",
    " \n",
    " we can group by one column and count the values of another column per this column value using **value_counts**.\n",
    " \n",
    " on this dataset, we can count the number of activities each person did."
   ]
  },
  {
   "cell_type": "code",
   "execution_count": 32,
   "metadata": {
    "collapsed": false,
    "scrolled": true
   },
   "outputs": [
    {
     "data": {
      "text/plain": [
       "name             activity       \n",
       "Addy Bangoen     Football           1\n",
       "                 Singing            1\n",
       "Aqur Ruqi        Singing            4\n",
       "                 Animes Marathon    2\n",
       "                 Basketball         1\n",
       "                 Football           1\n",
       "Benitez Alpha    Basketball         3\n",
       "                 Football           1\n",
       "                 Travel             1\n",
       "Jane Ziporag     Beach              1\n",
       "                 Football           1\n",
       "                 Travel             1\n",
       "Mitbal Kurzweil  Travel             4\n",
       "                 Animes Marathon    1\n",
       "                 Basketball         1\n",
       "                 Football           1\n",
       "Raphael Varine   Football           3\n",
       "                 Animes Marathon    1\n",
       "                 Basketball         1\n",
       "                 Travel             1\n",
       "Suzan Mort       Beach              4\n",
       "                 Animes Marathon    3\n",
       "                 Basketball         2\n",
       "                 Football           2\n",
       "                 Singing            1\n",
       "Thomas Col       Animes Marathon    2\n",
       "                 Football           2\n",
       "                 Basketball         1\n",
       "                 Beach              1\n",
       "                 Travel             1\n",
       "Name: activity, dtype: int64"
      ]
     },
     "execution_count": 32,
     "metadata": {},
     "output_type": "execute_result"
    }
   ],
   "source": [
    "df.groupby('name')['activity'].value_counts()"
   ]
  },
  {
   "cell_type": "code",
   "execution_count": null,
   "metadata": {
    "collapsed": true
   },
   "outputs": [],
   "source": [
    "\n"
   ]
  }
 ],
 "metadata": {
  "kernelspec": {
   "display_name": "Python 2",
   "language": "python",
   "name": "python2"
  },
  "language_info": {
   "codemirror_mode": {
    "name": "ipython",
    "version": 2
   },
   "file_extension": ".py",
   "mimetype": "text/x-python",
   "name": "python",
   "nbconvert_exporter": "python",
   "pygments_lexer": "ipython2",
   "version": "2.7.10"
  }
 },
 "nbformat": 4,
 "nbformat_minor": 1
}
